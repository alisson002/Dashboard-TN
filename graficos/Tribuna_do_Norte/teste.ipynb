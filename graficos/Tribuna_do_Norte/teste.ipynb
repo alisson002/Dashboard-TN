{
 "cells": [
  {
   "cell_type": "code",
   "execution_count": 13,
   "metadata": {},
   "outputs": [
    {
     "name": "stdout",
     "output_type": "stream",
     "text": [
      "                     IDmembers  reporter_fotografo  \\\n",
      "85    557f1f8b6d6ecf374ea1bb6d    Cláudio Oliveira   \n",
      "190   630f609c5fd049015efee811          Isaac Lira   \n",
      "1195  5f3d301a2c3e28123f5695f3    Felipe Salustino   \n",
      "1196  5af3396cb98a246febedd607     Fernandasouzajh   \n",
      "1197  5f3d301a2c3e28123f5695f3    Felipe Salustino   \n",
      "1198  5f3d301a2c3e28123f5695f3    Felipe Salustino   \n",
      "1199  5f3d301a2c3e28123f5695f3    Felipe Salustino   \n",
      "1200  5b6b219cf77e1d03567d2169  icarocesarcarvalho   \n",
      "1201  5f3d301a2c3e28123f5695f3    Felipe Salustino   \n",
      "\n",
      "                                                  pauta  \\\n",
      "85    Prefeitura vai à Justiça para DNIT liberar pon...   \n",
      "190   Governo do RN vai atrasar 11ª parcela do piso ...   \n",
      "1195             FELIPE - REUNIÃO CPG ATUM - 19/12/2023   \n",
      "1196             FELIPE - REUNIÃO CPG ATUM - 19/12/2023   \n",
      "1197  FLASH FESTA DA APROVAÇÃO CEI ROMUALDO E ROBERT...   \n",
      "1198  FLASH PROTESTO DE TERCEIRIZADOS DA UFRN - 15/0...   \n",
      "1199  FLASH - FECHAMENTO DO CARNAVAL DE NATAL - 14.0...   \n",
      "1200             FLASH - ZURICH ASSUME AEROPORTO DE SGA   \n",
      "1201  FLASH MOBILIZAÇÃO UNIFICADA DOS SERVIDORES DO ...   \n",
      "\n",
      "                               link data  \n",
      "85    https://trello.com/c/oAZX23xX  NaT  \n",
      "190   https://trello.com/c/4srs9ddU  NaT  \n",
      "1195  https://trello.com/c/vSC8l3AE  NaT  \n",
      "1196  https://trello.com/c/vSC8l3AE  NaT  \n",
      "1197  https://trello.com/c/9e2nZJRy  NaT  \n",
      "1198  https://trello.com/c/xQCvxYjQ  NaT  \n",
      "1199  https://trello.com/c/C2CC5yQX  NaT  \n",
      "1200  https://trello.com/c/Nen5UjEm  NaT  \n",
      "1201  https://trello.com/c/e3ybaSlp  NaT  \n"
     ]
    }
   ],
   "source": [
    "import pygal\n",
    "import pandas as pd\n",
    "import streamlit as st\n",
    "#from graficos.Tribuna_do_Norte import tnPortal\n",
    "\n",
    "# Raios para os gráficos de rosca\n",
    "raio_interno = 0.7\n",
    "raio_half = 0.2\n",
    "\n",
    "# Função para tentar múltiplos formatos\n",
    "def try_parsing_date(text):\n",
    "    for fmt in (\"%Y-%m-%dT%H:%M:%S.%fZ\", \"%Y-%m-%d %H:%M:%S\"):\n",
    "        try:\n",
    "            return pd.to_datetime(text, format=fmt)\n",
    "        except ValueError:\n",
    "            continue\n",
    "    return pd.NaT\n",
    "\n",
    "# Carregar os dados\n",
    "df_noticias_impresso = pd.read_csv('C:/Users/aliss/Documents/Repositórios/Dashboard-TN/tabelas/impresso/dados_impresso.csv', low_memory=False)\n",
    "\n",
    "# Aplicar a função para converter as datas\n",
    "df_noticias_impresso['data'] = df_noticias_impresso['data'].apply(try_parsing_date)\n",
    "\n",
    "# Verifique as entradas que foram convertidas para NaT\n",
    "nat_entries = df_noticias_impresso[df_noticias_impresso['data'].isna()]\n",
    "print(nat_entries)\n",
    "\n"
   ]
  },
  {
   "cell_type": "code",
   "execution_count": 34,
   "metadata": {},
   "outputs": [
    {
     "name": "stdout",
     "output_type": "stream",
     "text": [
      "25-03-2024\n",
      "25-03-2024\n"
     ]
    },
    {
     "ename": "AttributeError",
     "evalue": "'str' object has no attribute 'strftime'",
     "output_type": "error",
     "traceback": [
      "\u001b[1;31m---------------------------------------------------------------------------\u001b[0m",
      "\u001b[1;31mAttributeError\u001b[0m                            Traceback (most recent call last)",
      "Cell \u001b[1;32mIn[34], line 6\u001b[0m\n\u001b[0;32m      4\u001b[0m \u001b[38;5;28mprint\u001b[39m(pd\u001b[38;5;241m.\u001b[39mto_datetime(df_noticias_impresso\u001b[38;5;241m.\u001b[39miloc[\u001b[38;5;241m85\u001b[39m][\u001b[38;5;124m'\u001b[39m\u001b[38;5;124mdata\u001b[39m\u001b[38;5;124m'\u001b[39m])\u001b[38;5;241m.\u001b[39mstrftime(\u001b[38;5;124m'\u001b[39m\u001b[38;5;132;01m%d\u001b[39;00m\u001b[38;5;124m-\u001b[39m\u001b[38;5;124m%\u001b[39m\u001b[38;5;124mm-\u001b[39m\u001b[38;5;124m%\u001b[39m\u001b[38;5;124mY\u001b[39m\u001b[38;5;124m'\u001b[39m))\n\u001b[0;32m      5\u001b[0m \u001b[38;5;28mprint\u001b[39m(pd\u001b[38;5;241m.\u001b[39mto_datetime(df_noticias_impresso\u001b[38;5;241m.\u001b[39miloc[\u001b[38;5;241m84\u001b[39m][\u001b[38;5;124m'\u001b[39m\u001b[38;5;124mdata\u001b[39m\u001b[38;5;124m'\u001b[39m])\u001b[38;5;241m.\u001b[39mstrftime(\u001b[38;5;124m'\u001b[39m\u001b[38;5;132;01m%d\u001b[39;00m\u001b[38;5;124m-\u001b[39m\u001b[38;5;124m%\u001b[39m\u001b[38;5;124mm-\u001b[39m\u001b[38;5;124m%\u001b[39m\u001b[38;5;124mY\u001b[39m\u001b[38;5;124m'\u001b[39m))\n\u001b[1;32m----> 6\u001b[0m \u001b[38;5;28mprint\u001b[39m(\u001b[43mdf_noticias_impresso\u001b[49m\u001b[38;5;241;43m.\u001b[39;49m\u001b[43miloc\u001b[49m\u001b[43m[\u001b[49m\u001b[38;5;241;43m85\u001b[39;49m\u001b[43m]\u001b[49m\u001b[43m[\u001b[49m\u001b[38;5;124;43m'\u001b[39;49m\u001b[38;5;124;43mdata\u001b[39;49m\u001b[38;5;124;43m'\u001b[39;49m\u001b[43m]\u001b[49m\u001b[38;5;241;43m.\u001b[39;49m\u001b[43mstrftime\u001b[49m(\u001b[38;5;124m'\u001b[39m\u001b[38;5;132;01m%d\u001b[39;00m\u001b[38;5;124m-\u001b[39m\u001b[38;5;124m%\u001b[39m\u001b[38;5;124mm-\u001b[39m\u001b[38;5;124m%\u001b[39m\u001b[38;5;124mY\u001b[39m\u001b[38;5;124m'\u001b[39m))\n\u001b[0;32m      7\u001b[0m \u001b[38;5;28mprint\u001b[39m(df_noticias_impresso\u001b[38;5;241m.\u001b[39miloc[\u001b[38;5;241m84\u001b[39m][\u001b[38;5;124m'\u001b[39m\u001b[38;5;124mdata\u001b[39m\u001b[38;5;124m'\u001b[39m])\n\u001b[0;32m      8\u001b[0m \u001b[38;5;28mprint\u001b[39m(pd\u001b[38;5;241m.\u001b[39mto_datetime(\u001b[38;5;124m'\u001b[39m\u001b[38;5;124m2023-10-16\u001b[39m\u001b[38;5;124m'\u001b[39m))\n",
      "\u001b[1;31mAttributeError\u001b[0m: 'str' object has no attribute 'strftime'"
     ]
    }
   ],
   "source": [
    "# Carregar os dados\n",
    "df_noticias_impresso = pd.read_csv('C:/Users/aliss/Documents/Repositórios/Dashboard-TN/tabelas/impresso/dados_impresso.csv', low_memory=False)\n",
    "\n",
    "print(pd.to_datetime(df_noticias_impresso.iloc[85]['data']).strftime('%d-%m-%Y'))\n",
    "print(pd.to_datetime(df_noticias_impresso.iloc[84]['data']).strftime('%d-%m-%Y'))\n",
    "print(df_noticias_impresso.iloc[85]['data'].strftime('%d-%m-%Y'))\n",
    "print(df_noticias_impresso.iloc[84]['data'])\n",
    "print(pd.to_datetime('2023-10-16'))"
   ]
  }
 ],
 "metadata": {
  "kernelspec": {
   "display_name": "Python 3",
   "language": "python",
   "name": "python3"
  },
  "language_info": {
   "codemirror_mode": {
    "name": "ipython",
    "version": 3
   },
   "file_extension": ".py",
   "mimetype": "text/x-python",
   "name": "python",
   "nbconvert_exporter": "python",
   "pygments_lexer": "ipython3",
   "version": "3.12.2"
  }
 },
 "nbformat": 4,
 "nbformat_minor": 2
}
