{
 "cells": [
  {
   "cell_type": "code",
   "execution_count": 34,
   "metadata": {},
   "outputs": [
    {
     "name": "stdout",
     "output_type": "stream",
     "text": [
      "Empty DataFrame\n",
      "Columns: [IDmembers, reporter_fotografo, pauta, link, data]\n",
      "Index: []\n"
     ]
    }
   ],
   "source": [
    "import pygal\n",
    "import pandas as pd\n",
    "import streamlit as st\n",
    "#from graficos.Tribuna_do_Norte import tnPortal\n",
    "\n",
    "# Raios para os gráficos de rosca\n",
    "raio_interno = 0.7\n",
    "raio_half = 0.2\n",
    "\n",
    "# Função para tentar múltiplos formatos\n",
    "def try_parsing_date(text):\n",
    "    for fmt in (\"%Y-%m-%dT%H:%M:%S.%fZ\", \"%Y-%m-%d %H:%M:%S\"):\n",
    "        try:\n",
    "            return pd.to_datetime(text, format=fmt)\n",
    "        except ValueError:\n",
    "            continue\n",
    "    return pd.NaT\n",
    "\n",
    "# Carregar os dados\n",
    "df_noticias_impresso = pd.read_csv('C:/Users/aliss/Documents/Repositórios/Dashboard-TN/tabelas/impresso/dados_impresso.csv', low_memory=False)\n",
    "\n",
    "# Aplicar a função para converter as datas\n",
    "df_noticias_impresso['data'] = df_noticias_impresso['data'].apply(try_parsing_date)\n",
    "\n",
    "df_noticias_impresso = df_noticias_impresso.dropna(subset=['data'])\n",
    "\n",
    "# Verifique as entradas que foram convertidas para NaT\n",
    "nat_entries = df_noticias_impresso[df_noticias_impresso['data'].isna()]\n",
    "print(nat_entries)\n",
    "\n",
    "\n"
   ]
  },
  {
   "cell_type": "code",
   "execution_count": 29,
   "metadata": {},
   "outputs": [
    {
     "name": "stdout",
     "output_type": "stream",
     "text": [
      "2024-03-25 13:16:56\n",
      "2024-03-25 21:12:23.733000+00:00\n",
      "<class 'pandas._libs.tslibs.timestamps.Timestamp'>\n",
      "2024-03-25T21:12:23.733Z\n",
      "2023-10-16 00:00:00\n"
     ]
    }
   ],
   "source": [
    "# Carregar os dados\n",
    "df_noticias_impresso = pd.read_csv('C:/Users/aliss/Documents/Repositórios/Dashboard-TN/tabelas/impresso/dados_impresso.csv', low_memory=False)\n",
    "\n",
    "print((pd.to_datetime(df_noticias_impresso.iloc[85]['data'])))\n",
    "print(pd.to_datetime(df_noticias_impresso.iloc[84]['data']))\n",
    "print(type(pd.to_datetime('2023-10-16')))\n",
    "print(df_noticias_impresso.iloc[84]['data'])\n",
    "print(pd.to_datetime('2023-10-16'))"
   ]
  },
  {
   "cell_type": "code",
   "execution_count": 30,
   "metadata": {},
   "outputs": [
    {
     "name": "stdout",
     "output_type": "stream",
     "text": [
      "tz-naive: 2024-05-24 14:30:00\n",
      "tz-aware: 2024-05-24 14:30:00+00:00\n"
     ]
    }
   ],
   "source": [
    "from datetime import datetime\n",
    "import pytz\n",
    "\n",
    "# Data tz-naive\n",
    "data_naive = datetime.strptime('2024-05-24 14:30:00', '%Y-%m-%d %H:%M:%S')\n",
    "\n",
    "# Adicione fuso horário (por exemplo, UTC)\n",
    "data_aware = data_naive.replace(tzinfo=pytz.UTC)\n",
    "\n",
    "print(f\"tz-naive: {data_naive}\")\n",
    "print(f\"tz-aware: {data_aware}\")"
   ]
  },
  {
   "cell_type": "code",
   "execution_count": 41,
   "metadata": {},
   "outputs": [
    {
     "name": "stdout",
     "output_type": "stream",
     "text": [
      "<class 'pandas._libs.tslibs.timestamps.Timestamp'>\n"
     ]
    }
   ],
   "source": [
    "import streamlit as st\n",
    "data_maxima = pd.to_datetime('2023-10-16')\n",
    "data_minima = pd.to_datetime('2023-01-01') # type <class 'pandas._libs.tslibs.timestamps.Timestamp'>\n",
    "\n",
    "start_date = st.sidebar.date_input(\"Data de início\", data_minima, min_value = data_minima, max_value = data_maxima, format=\"DD-MM-YYYY\") # type <class 'datetime.date'>\n",
    "\n",
    "end_date = st.sidebar.date_input(\"Data de término\", data_maxima, min_value = data_minima, max_value = data_maxima, format=\"DD-MM-YYYY\") #+ pd.DateOffset(days=1) \"DD-MM-YYYY\"\n",
    "\n",
    "print(type(data_minima))"
   ]
  }
 ],
 "metadata": {
  "kernelspec": {
   "display_name": "Python 3",
   "language": "python",
   "name": "python3"
  },
  "language_info": {
   "codemirror_mode": {
    "name": "ipython",
    "version": 3
   },
   "file_extension": ".py",
   "mimetype": "text/x-python",
   "name": "python",
   "nbconvert_exporter": "python",
   "pygments_lexer": "ipython3",
   "version": "3.12.2"
  }
 },
 "nbformat": 4,
 "nbformat_minor": 2
}
