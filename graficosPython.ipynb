{
 "cells": [
  {
   "cell_type": "code",
   "execution_count": 21,
   "metadata": {},
   "outputs": [],
   "source": [
    "import pygal\n",
    "import pandas as pd\n",
    "import streamlit as st\n",
    "from datetime import datetime"
   ]
  },
  {
   "cell_type": "code",
   "execution_count": 22,
   "metadata": {},
   "outputs": [],
   "source": [
    "# Definindo a data mínima e máxima\n",
    "data_minima = pd.to_datetime('2024-06-02')\n",
    "data_maxima = pd.to_datetime('2024-06-08')\n",
    "\n",
    "    \n",
    "# Adicionar seletor de períodos na coluna à esquerda\n",
    "start_date_ = st.sidebar.date_input(\"Data de início\", data_minima, min_value = data_minima, max_value = data_maxima, format=\"YYYY-MM-DD\") #\"DD-MM-YYYY\"\n",
    "\n",
    "end_date_ = st.sidebar.date_input(\"Data de término\", data_maxima, min_value = data_minima, max_value = data_maxima, format=\"YYYY-MM-DD\") #+ pd.DateOffset(days=1) #\"DD-MM-YYYY\"\n",
    "\n",
    "start_date = start_date_.strftime('%Y-%m-%d') #'%d-%m-%Y'\n",
    "end_date = end_date_.strftime('%Y-%m-%d')\n",
    "\n",
    "periodo = end_date_ - start_date_\n",
    "\n",
    "# Periodo anteior para gráficos com comparações\n",
    "start_date_b4 = start_date_ - pd.DateOffset(days = periodo.days)\n",
    "\n",
    "end_date_b4 = end_date_ - pd.DateOffset(days = periodo.days)"
   ]
  },
  {
   "cell_type": "code",
   "execution_count": 23,
   "metadata": {},
   "outputs": [],
   "source": [
    "import csv\n",
    "\n",
    "def encontrar_frase_em_csv_meta(nome_arquivo, frase_procurada):\n",
    "    try:\n",
    "        with open(nome_arquivo, 'r', newline='', encoding='utf-16') as arquivo_csv:\n",
    "            leitor_csv = csv.reader(arquivo_csv)\n",
    "            \n",
    "            for numero_linha, linha in enumerate(leitor_csv, start=1):\n",
    "                if frase_procurada in linha:\n",
    "                    return numero_linha\n",
    "\n",
    "        # Se a frase não for encontrada em nenhuma linha\n",
    "        return -1\n",
    "\n",
    "    except FileNotFoundError:\n",
    "        print(f'O arquivo {nome_arquivo} não foi encontrado.')\n",
    "        return -1"
   ]
  },
  {
   "cell_type": "code",
   "execution_count": 24,
   "metadata": {},
   "outputs": [],
   "source": [
    "inicio_alcanceIG = encontrar_frase_em_csv_meta('tabelas/meta/Alcance.csv', 'Alcance do Instagram')\n",
    "\n",
    "alcanceIG = pd.read_csv('tabelas/meta/Alcance.csv', skiprows=inicio_alcanceIG, encoding='utf-16',skip_blank_lines=True)\n",
    "\n",
    "inicio_visitasIG = encontrar_frase_em_csv_meta('tabelas/meta/Visitas.csv', 'Visitas ao perfil do Instagram')\n",
    "\n",
    "visitasIG = pd.read_csv('tabelas/meta/Visitas.csv', skiprows=inicio_visitasIG, encoding='utf-16',skip_blank_lines=True)\n",
    "\n",
    "inicio_seguidoresIG = encontrar_frase_em_csv_meta('tabelas/meta/Seguidores.csv', 'Seguidores no Instagram')\n",
    "\n",
    "seguidoresIG = pd.read_csv('tabelas/meta/Seguidores.csv', skiprows=inicio_seguidoresIG, encoding='utf-16',skip_blank_lines=True)\n"
   ]
  },
  {
   "cell_type": "code",
   "execution_count": 25,
   "metadata": {},
   "outputs": [],
   "source": [
    "def transformaData_final(data):\n",
    "    return (pd.to_datetime(data)-pd.DateOffset(days=1)).strftime('%d-%m-%Y')\n",
    "\n",
    "def transformaData_inicio(data):\n",
    "    return (pd.to_datetime(data)).strftime('%d-%m-%Y')"
   ]
  },
  {
   "cell_type": "code",
   "execution_count": 26,
   "metadata": {},
   "outputs": [],
   "source": [
    "\n",
    "import plotly.graph_objects as go"
   ]
  },
  {
   "cell_type": "code",
   "execution_count": 28,
   "metadata": {},
   "outputs": [],
   "source": [
    "#FILTRO ALCANCE\n",
    "dados_IG_alcance_FILTRADAS = alcanceIG.copy()\n",
    "\n",
    "dados_IG_alcance_FILTRADAS = dados_IG_alcance_FILTRADAS.loc[(dados_IG_alcance_FILTRADAS['Data']>start_date) & (dados_IG_alcance_FILTRADAS['Data']<end_date)]\n",
    "\n",
    "dados_IG_alcance_ANTERIOR = alcanceIG.copy()\n",
    "\n",
    "dados_IG_alcance_ANTERIOR = dados_IG_alcance_ANTERIOR.loc[(dados_IG_alcance_ANTERIOR['Data']>start_date_b4.strftime('%Y-%m-%d')) & (dados_IG_alcance_ANTERIOR['Data']<end_date_b4.strftime('%Y-%m-%d'))]\n",
    "\n",
    "#FILTRO VISITAS\n",
    "visitasIG_FILTRADO = visitasIG.copy()\n",
    "\n",
    "visitasIG_FILTRADO = visitasIG_FILTRADO.loc[(visitasIG_FILTRADO['Data']>start_date) & (visitasIG_FILTRADO['Data']<end_date)]\n",
    "\n",
    "visitasIG_ANTERIOR = visitasIG.copy()\n",
    "\n",
    "visitasIG_ANTERIOR = visitasIG_ANTERIOR.loc[(visitasIG_ANTERIOR['Data']>start_date_b4.strftime('%Y-%m-%d')) & (visitasIG_ANTERIOR['Data']<end_date_b4.strftime('%Y-%m-%d'))]\n",
    "\n",
    "#FILTRO SEGUIDOORES\n",
    "seguidoresIG_FILTRADO = seguidoresIG.copy()\n",
    "\n",
    "seguidoresIG_FILTRADO = seguidoresIG_FILTRADO.loc[(seguidoresIG_FILTRADO['Data']>start_date) & (seguidoresIG_FILTRADO['Data']<end_date)]\n",
    "\n",
    "seguidoresIG_ANTERIOR = seguidoresIG.copy()\n",
    "\n",
    "seguidoresIG_ANTERIOR = seguidoresIG_ANTERIOR.loc[(seguidoresIG_ANTERIOR['Data']>start_date_b4.strftime('%Y-%m-%d')) & (seguidoresIG_ANTERIOR['Data']<end_date_b4.strftime('%Y-%m-%d'))]"
   ]
  },
  {
   "cell_type": "code",
   "execution_count": 29,
   "metadata": {},
   "outputs": [
    {
     "data": {
      "application/vnd.plotly.v1+json": {
       "config": {
        "plotlyServerURL": "https://plot.ly"
       },
       "data": [
        {
         "hovertemplate": "<br>Data Original: %{text}<br>Valor: %{y}",
         "line": {
          "color": "#E1306C"
         },
         "mode": "lines+markers",
         "name": "Selecionado: 02-06-2024 a 07-06-2024",
         "text": [
          "2024-06-02",
          "2024-06-03",
          "2024-06-04",
          "2024-06-05",
          "2024-06-06",
          "2024-06-07"
         ],
         "type": "scatter",
         "x": [
          1,
          2,
          3,
          4,
          5,
          6
         ],
         "y": [
          5553,
          11247,
          6628,
          4485,
          4676,
          2887
         ]
        },
        {
         "hovertemplate": "<br>Data Original: %{text}<br>Valor: %{y}",
         "line": {
          "color": "#EB7099"
         },
         "mode": "lines+markers",
         "name": "Anterior: 27-05-2024 a 01-06-2024",
         "text": [
          "27-05-2024",
          "28-05-2024",
          "29-05-2024",
          "30-05-2024",
          "31-05-2024",
          "01-06-2024"
         ],
         "type": "scatter",
         "x": [
          1,
          2,
          3,
          4,
          5,
          6
         ],
         "y": [
          3998,
          9481,
          4556,
          4084,
          4955,
          4132
         ]
        }
       ],
       "layout": {
        "hovermode": "x unified",
        "legend": {
         "font": {
          "size": 10
         },
         "x": 1,
         "xanchor": "right",
         "y": 1,
         "yanchor": "bottom"
        },
        "template": {
         "data": {
          "candlestick": [
           {
            "decreasing": {
             "line": {
              "color": "#000033"
             }
            },
            "increasing": {
             "line": {
              "color": "#000032"
             }
            },
            "type": "candlestick"
           }
          ],
          "contour": [
           {
            "colorscale": [
             [
              0,
              "#000011"
             ],
             [
              0.1111111111111111,
              "#000012"
             ],
             [
              0.2222222222222222,
              "#000013"
             ],
             [
              0.3333333333333333,
              "#000014"
             ],
             [
              0.4444444444444444,
              "#000015"
             ],
             [
              0.5555555555555556,
              "#000016"
             ],
             [
              0.6666666666666666,
              "#000017"
             ],
             [
              0.7777777777777778,
              "#000018"
             ],
             [
              0.8888888888888888,
              "#000019"
             ],
             [
              1,
              "#000020"
             ]
            ],
            "type": "contour"
           }
          ],
          "contourcarpet": [
           {
            "colorscale": [
             [
              0,
              "#000011"
             ],
             [
              0.1111111111111111,
              "#000012"
             ],
             [
              0.2222222222222222,
              "#000013"
             ],
             [
              0.3333333333333333,
              "#000014"
             ],
             [
              0.4444444444444444,
              "#000015"
             ],
             [
              0.5555555555555556,
              "#000016"
             ],
             [
              0.6666666666666666,
              "#000017"
             ],
             [
              0.7777777777777778,
              "#000018"
             ],
             [
              0.8888888888888888,
              "#000019"
             ],
             [
              1,
              "#000020"
             ]
            ],
            "type": "contourcarpet"
           }
          ],
          "heatmap": [
           {
            "colorscale": [
             [
              0,
              "#000011"
             ],
             [
              0.1111111111111111,
              "#000012"
             ],
             [
              0.2222222222222222,
              "#000013"
             ],
             [
              0.3333333333333333,
              "#000014"
             ],
             [
              0.4444444444444444,
              "#000015"
             ],
             [
              0.5555555555555556,
              "#000016"
             ],
             [
              0.6666666666666666,
              "#000017"
             ],
             [
              0.7777777777777778,
              "#000018"
             ],
             [
              0.8888888888888888,
              "#000019"
             ],
             [
              1,
              "#000020"
             ]
            ],
            "type": "heatmap"
           }
          ],
          "histogram2d": [
           {
            "colorscale": [
             [
              0,
              "#000011"
             ],
             [
              0.1111111111111111,
              "#000012"
             ],
             [
              0.2222222222222222,
              "#000013"
             ],
             [
              0.3333333333333333,
              "#000014"
             ],
             [
              0.4444444444444444,
              "#000015"
             ],
             [
              0.5555555555555556,
              "#000016"
             ],
             [
              0.6666666666666666,
              "#000017"
             ],
             [
              0.7777777777777778,
              "#000018"
             ],
             [
              0.8888888888888888,
              "#000019"
             ],
             [
              1,
              "#000020"
             ]
            ],
            "type": "histogram2d"
           }
          ],
          "icicle": [
           {
            "textfont": {
             "color": "white"
            },
            "type": "icicle"
           }
          ],
          "sankey": [
           {
            "textfont": {
             "color": "#000036"
            },
            "type": "sankey"
           }
          ],
          "scatter": [
           {
            "marker": {
             "line": {
              "width": 0
             }
            },
            "type": "scatter"
           }
          ],
          "table": [
           {
            "cells": {
             "fill": {
              "color": "#000038"
             },
             "font": {
              "color": "#000037"
             },
             "line": {
              "color": "#000039"
             }
            },
            "header": {
             "fill": {
              "color": "#000040"
             },
             "font": {
              "color": "#000036"
             },
             "line": {
              "color": "#000039"
             }
            },
            "type": "table"
           }
          ],
          "waterfall": [
           {
            "connector": {
             "line": {
              "color": "#000036",
              "width": 2
             }
            },
            "decreasing": {
             "marker": {
              "color": "#000033"
             }
            },
            "increasing": {
             "marker": {
              "color": "#000032"
             }
            },
            "totals": {
             "marker": {
              "color": "#000034"
             }
            },
            "type": "waterfall"
           }
          ]
         },
         "layout": {
          "coloraxis": {
           "colorscale": [
            [
             0,
             "#000011"
            ],
            [
             0.1111111111111111,
             "#000012"
            ],
            [
             0.2222222222222222,
             "#000013"
            ],
            [
             0.3333333333333333,
             "#000014"
            ],
            [
             0.4444444444444444,
             "#000015"
            ],
            [
             0.5555555555555556,
             "#000016"
            ],
            [
             0.6666666666666666,
             "#000017"
            ],
            [
             0.7777777777777778,
             "#000018"
            ],
            [
             0.8888888888888888,
             "#000019"
            ],
            [
             1,
             "#000020"
            ]
           ]
          },
          "colorscale": {
           "diverging": [
            [
             0,
             "#000021"
            ],
            [
             0.1,
             "#000022"
            ],
            [
             0.2,
             "#000023"
            ],
            [
             0.3,
             "#000024"
            ],
            [
             0.4,
             "#000025"
            ],
            [
             0.5,
             "#000026"
            ],
            [
             0.6,
             "#000027"
            ],
            [
             0.7,
             "#000028"
            ],
            [
             0.8,
             "#000029"
            ],
            [
             0.9,
             "#000030"
            ],
            [
             1,
             "#000031"
            ]
           ],
           "sequential": [
            [
             0,
             "#000011"
            ],
            [
             0.1111111111111111,
             "#000012"
            ],
            [
             0.2222222222222222,
             "#000013"
            ],
            [
             0.3333333333333333,
             "#000014"
            ],
            [
             0.4444444444444444,
             "#000015"
            ],
            [
             0.5555555555555556,
             "#000016"
            ],
            [
             0.6666666666666666,
             "#000017"
            ],
            [
             0.7777777777777778,
             "#000018"
            ],
            [
             0.8888888888888888,
             "#000019"
            ],
            [
             1,
             "#000020"
            ]
           ],
           "sequentialminus": [
            [
             0,
             "#000011"
            ],
            [
             0.1111111111111111,
             "#000012"
            ],
            [
             0.2222222222222222,
             "#000013"
            ],
            [
             0.3333333333333333,
             "#000014"
            ],
            [
             0.4444444444444444,
             "#000015"
            ],
            [
             0.5555555555555556,
             "#000016"
            ],
            [
             0.6666666666666666,
             "#000017"
            ],
            [
             0.7777777777777778,
             "#000018"
            ],
            [
             0.8888888888888888,
             "#000019"
            ],
            [
             1,
             "#000020"
            ]
           ]
          },
          "colorway": [
           "#000001",
           "#000002",
           "#000003",
           "#000004",
           "#000005",
           "#000006",
           "#000007",
           "#000008",
           "#000009",
           "#000010"
          ]
         }
        },
        "title": {
         "text": "Visitas do IG - Comparação de Períodos",
         "x": 0.1,
         "xanchor": "left",
         "y": 0.85
        },
        "xaxis": {
         "title": {
          "text": "Dias"
         }
        },
        "yaxis": {
         "tickformat": ".",
         "title": {
          "text": "Alcance"
         }
        }
       }
      }
     },
     "metadata": {},
     "output_type": "display_data"
    }
   ],
   "source": [
    "\n",
    "    # Supor que 'Data' é a coluna de datas e que estas estão no tipo datetime\n",
    "    visitasIG_FILTRADO['Data'] = pd.to_datetime(visitasIG_FILTRADO['Data'])\n",
    "    visitasIG_ANTERIOR['Data'] = pd.to_datetime(visitasIG_ANTERIOR['Data'])\n",
    "\n",
    "    # Manter as datas originais\n",
    "    visitasIG_FILTRADO['Data_Original'] = visitasIG_FILTRADO['Data']\n",
    "    visitasIG_ANTERIOR['Data_Original'] = visitasIG_ANTERIOR['Data']\n",
    "\n",
    "    # Calcular a diferença de dias entre o início dos dois períodos\n",
    "    delta = visitasIG_FILTRADO['Data'].min() - visitasIG_ANTERIOR['Data'].min()\n",
    "\n",
    "    # Ajustar as datas do período anterior para sobrepor ao período atual\n",
    "    visitasIG_ANTERIOR['Data'] = visitasIG_ANTERIOR['Data'] + delta\n",
    "\n",
    "    # Criar a coluna de sequência de números\n",
    "    visitasIG_FILTRADO['Dia'] = range(1, len(visitasIG_FILTRADO) + 1)\n",
    "    visitasIG_ANTERIOR['Dia'] = range(1, len(visitasIG_ANTERIOR) + 1)\n",
    "\n",
    "    # Cria a figura\n",
    "    fig = go.Figure()\n",
    "\n",
    "    # Adiciona a linha do período atual\n",
    "    fig.add_trace(go.Scatter(\n",
    "    x=visitasIG_FILTRADO['Dia'],\n",
    "    y=visitasIG_FILTRADO['Primary'],\n",
    "    mode='lines+markers',\n",
    "    name=f'Selecionado: {transformaData_inicio(start_date)} a {transformaData_final(end_date)}',\n",
    "    text=visitasIG_FILTRADO['Data_Original'].dt.strftime('%Y-%m-%d'),\n",
    "    hovertemplate='<br>Data Original: %{text}<br>Valor: %{y}',\n",
    "    line=dict(color='#E1306C')\n",
    "    ))\n",
    "\n",
    "    # Adiciona a linha do período anterior\n",
    "    fig.add_trace(go.Scatter(\n",
    "    x=visitasIG_ANTERIOR['Dia'],\n",
    "    y=visitasIG_ANTERIOR['Primary'],\n",
    "    mode='lines+markers',\n",
    "    name=f\"Anterior: {start_date_b4.strftime('%d-%m-%Y')} a {(end_date_b4 - pd.DateOffset(days=1)).strftime('%d-%m-%Y')}\",\n",
    "    text=visitasIG_ANTERIOR['Data_Original'].dt.strftime('%d-%m-%Y'),\n",
    "    hovertemplate='<br>Data Original: %{text}<br>Valor: %{y}',\n",
    "    line=dict(color='#EB7099')\n",
    "    ))\n",
    "\n",
    "    # Configura o layout\n",
    "    fig.update_layout(\n",
    "    title='Visitas do IG - Comparação de Períodos',\n",
    "    title_x=0.1,\n",
    "    title_xanchor='left',\n",
    "    title_y=0.85,\n",
    "    xaxis_title='Dias',\n",
    "    yaxis_title='Alcance',\n",
    "    hovermode='x unified',\n",
    "    yaxis=dict(tickformat='.'),\n",
    "    legend=dict(x=1, y=1, xanchor='right', yanchor='bottom', font=dict(size=10))\n",
    "    )\n",
    "    fig.show()"
   ]
  }
 ],
 "metadata": {
  "kernelspec": {
   "display_name": "Python 3",
   "language": "python",
   "name": "python3"
  },
  "language_info": {
   "codemirror_mode": {
    "name": "ipython",
    "version": 3
   },
   "file_extension": ".py",
   "mimetype": "text/x-python",
   "name": "python",
   "nbconvert_exporter": "python",
   "pygments_lexer": "ipython3",
   "version": "3.12.0"
  }
 },
 "nbformat": 4,
 "nbformat_minor": 2
}
