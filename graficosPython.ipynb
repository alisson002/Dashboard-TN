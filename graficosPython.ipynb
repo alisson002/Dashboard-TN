{
 "cells": [
  {
   "cell_type": "code",
   "execution_count": 27,
   "metadata": {},
   "outputs": [],
   "source": [
    "import pygal\n",
    "import pandas as pd\n",
    "import streamlit as st\n",
    "from datetime import datetime"
   ]
  },
  {
   "cell_type": "code",
   "execution_count": 46,
   "metadata": {},
   "outputs": [],
   "source": [
    "# Definindo a data mínima e máxima\n",
    "data_minima = pd.to_datetime('2023-01-01')\n",
    "data_maxima = pd.to_datetime('2024-05-23')\n",
    "\n",
    "    \n",
    "# Adicionar seletor de períodos na coluna à esquerda\n",
    "start_date_ = st.sidebar.date_input(\"Data de início\", data_minima, min_value = data_minima, max_value = data_maxima, format=\"YYYY-MM-DD\") #\"DD-MM-YYYY\"\n",
    "\n",
    "end_date_ = st.sidebar.date_input(\"Data de término\", data_maxima, min_value = data_minima, max_value = data_maxima, format=\"YYYY-MM-DD\") #+ pd.DateOffset(days=1) #\"DD-MM-YYYY\"\n",
    "\n",
    "start_date = start_date_.strftime('%Y-%m-%d') #'%d-%m-%Y'\n",
    "end_date = end_date_.strftime('%Y-%m-%d')"
   ]
  },
  {
   "cell_type": "code",
   "execution_count": 29,
   "metadata": {},
   "outputs": [],
   "source": [
    "import csv\n",
    "\n",
    "def encontrar_frase_em_csv_meta(nome_arquivo, frase_procurada):\n",
    "    try:\n",
    "        with open(nome_arquivo, 'r', newline='', encoding='utf-16') as arquivo_csv:\n",
    "            leitor_csv = csv.reader(arquivo_csv)\n",
    "            \n",
    "            for numero_linha, linha in enumerate(leitor_csv, start=1):\n",
    "                if frase_procurada in linha:\n",
    "                    return numero_linha\n",
    "\n",
    "        # Se a frase não for encontrada em nenhuma linha\n",
    "        return -1\n",
    "\n",
    "    except FileNotFoundError:\n",
    "        print(f'O arquivo {nome_arquivo} não foi encontrado.')\n",
    "        return -1"
   ]
  },
  {
   "cell_type": "code",
   "execution_count": 30,
   "metadata": {},
   "outputs": [],
   "source": [
    "final_alcanceFB = encontrar_frase_em_csv_meta('tabelas/meta/alcance.csv', 'Alcance do Instagram')\n",
    "dados_FB_alcance = pd.read_csv('tabelas/meta/alcance.csv',skiprows=2,encoding='utf-16',nrows=final_alcanceFB-5)\n",
    "# dados_FB_alcance = pd.read_csv(r'C:\\Users\\Usuario\\Documents\\Repositórios\\Dashboard-TN\\tabelas\\meta\\alcance.csv',skiprows=3,nrows=10)"
   ]
  },
  {
   "cell_type": "code",
   "execution_count": 31,
   "metadata": {},
   "outputs": [],
   "source": [
    "# Função para tentar múltiplos formatos\n",
    "def try_parsing_date(text):\n",
    "    for fmt in (\"%Y-%m-%dT%H:%M:%S.%fZ\", \"%Y-%m-%d %H:%M:%S\"):\n",
    "        try:\n",
    "            return pd.to_datetime(text, format=fmt)\n",
    "        except ValueError:\n",
    "            continue\n",
    "    return pd.NaT"
   ]
  },
  {
   "cell_type": "code",
   "execution_count": 32,
   "metadata": {},
   "outputs": [],
   "source": [
    "dados_FB_alcance['Data'] = dados_FB_alcance['Data'].apply(try_parsing_date)\n",
    "dados_FB_alcance = dados_FB_alcance.dropna(subset=['Data'])"
   ]
  },
  {
   "cell_type": "code",
   "execution_count": 33,
   "metadata": {},
   "outputs": [],
   "source": [
    "# Recebendo dados de 01/01/2022 até o momento\n",
    "# alcance FB: 28/05/2022\n",
    "# alcance IG: 28/05/2022\n",
    "# visitas FB: 28/05/2022\n",
    "# visitas IG: 28/05/2022\n",
    "# seguidores FB: 01/01/2022\n",
    "# seguidores IG: 31/08/2023\n",
    "def filtrosDatasFACEBOOK(start_date, end_date):\n",
    "    dados_FB_alcance_FILTRADAS = dados_FB_alcance.copy()\n",
    "    \n",
    "    dados_FB_alcance_FILTRADAS = dados_FB_alcance_FILTRADAS.loc[(dados_FB_alcance_FILTRADAS['Data']>start_date) & (dados_FB_alcance_FILTRADAS['Data']<end_date)]\n",
    "    \n",
    "    return dados_FB_alcance_FILTRADAS"
   ]
  },
  {
   "cell_type": "code",
   "execution_count": 43,
   "metadata": {},
   "outputs": [
    {
     "ename": "TypeError",
     "evalue": "unsupported operand type(s) for -: 'str' and 'str'",
     "output_type": "error",
     "traceback": [
      "\u001b[1;31m---------------------------------------------------------------------------\u001b[0m",
      "\u001b[1;31mTypeError\u001b[0m                                 Traceback (most recent call last)",
      "Cell \u001b[1;32mIn[43], line 5\u001b[0m\n\u001b[0;32m      3\u001b[0m line_chart \u001b[38;5;241m=\u001b[39m pygal\u001b[38;5;241m.\u001b[39mLine()\n\u001b[0;32m      4\u001b[0m line_chart\u001b[38;5;241m.\u001b[39mtitle \u001b[38;5;241m=\u001b[39m \u001b[38;5;124m'\u001b[39m\u001b[38;5;124mFB: Alcance\u001b[39m\u001b[38;5;124m'\u001b[39m\n\u001b[1;32m----> 5\u001b[0m line_chart\u001b[38;5;241m.\u001b[39mx_labels \u001b[38;5;241m=\u001b[39m \u001b[38;5;28mmap\u001b[39m(\u001b[38;5;28mstr\u001b[39m, \u001b[38;5;28mrange\u001b[39m(\u001b[38;5;241m1\u001b[39m, \u001b[43m(\u001b[49m\u001b[43m(\u001b[49m\u001b[43mstart_date\u001b[49m\u001b[43m)\u001b[49m\u001b[43m)\u001b[49m\u001b[43m \u001b[49m\u001b[38;5;241;43m-\u001b[39;49m\u001b[43m \u001b[49m\u001b[43m(\u001b[49m\u001b[43m(\u001b[49m\u001b[43mend_date\u001b[49m\u001b[43m)\u001b[49m\u001b[43m)\u001b[49m))\n\u001b[0;32m      6\u001b[0m line_chart\u001b[38;5;241m.\u001b[39madd()\n\u001b[0;32m      7\u001b[0m line_chart\u001b[38;5;241m.\u001b[39mrender()\n",
      "\u001b[1;31mTypeError\u001b[0m: unsupported operand type(s) for -: 'str' and 'str'"
     ]
    }
   ],
   "source": [
    "#chamar a função com as datas\n",
    "\n",
    "line_chart = pygal.Line()\n",
    "line_chart.title = 'FB: Alcance'\n",
    "line_chart.x_labels = map(str, range(1, start_date - end_date))\n",
    "line_chart.add()\n",
    "line_chart.render()\n"
   ]
  },
  {
   "cell_type": "code",
   "execution_count": 51,
   "metadata": {},
   "outputs": [
    {
     "name": "stdout",
     "output_type": "stream",
     "text": [
      "508\n"
     ]
    }
   ],
   "source": [
    "teste = end_date_ - start_date_\n",
    "print(teste.days)"
   ]
  }
 ],
 "metadata": {
  "kernelspec": {
   "display_name": "Python 3",
   "language": "python",
   "name": "python3"
  },
  "language_info": {
   "codemirror_mode": {
    "name": "ipython",
    "version": 3
   },
   "file_extension": ".py",
   "mimetype": "text/x-python",
   "name": "python",
   "nbconvert_exporter": "python",
   "pygments_lexer": "ipython3",
   "version": "3.12.0"
  }
 },
 "nbformat": 4,
 "nbformat_minor": 2
}
