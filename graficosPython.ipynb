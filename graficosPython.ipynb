{
 "cells": [
  {
   "cell_type": "code",
   "execution_count": 1,
   "metadata": {},
   "outputs": [],
   "source": [
    "import pygal\n",
    "import pandas as pd\n",
    "import streamlit as st\n",
    "from datetime import datetime"
   ]
  },
  {
   "cell_type": "code",
   "execution_count": 2,
   "metadata": {},
   "outputs": [
    {
     "name": "stderr",
     "output_type": "stream",
     "text": [
      "2024-06-06 10:21:24.371 \n",
      "  \u001b[33m\u001b[1mWarning:\u001b[0m to view this Streamlit app on a browser, run it with the following\n",
      "  command:\n",
      "\n",
      "    streamlit run C:\\Users\\Usuario\\AppData\\Roaming\\Python\\Python312\\site-packages\\ipykernel_launcher.py [ARGUMENTS]\n"
     ]
    }
   ],
   "source": [
    "# Definindo a data mínima e máxima\n",
    "data_minima = pd.to_datetime('2024-05-01')\n",
    "data_maxima = pd.to_datetime('2024-05-23')\n",
    "\n",
    "    \n",
    "# Adicionar seletor de períodos na coluna à esquerda\n",
    "start_date_ = st.sidebar.date_input(\"Data de início\", data_minima, min_value = data_minima, max_value = data_maxima, format=\"YYYY-MM-DD\") #\"DD-MM-YYYY\"\n",
    "\n",
    "end_date_ = st.sidebar.date_input(\"Data de término\", data_maxima, min_value = data_minima, max_value = data_maxima, format=\"YYYY-MM-DD\") #+ pd.DateOffset(days=1) #\"DD-MM-YYYY\"\n",
    "\n",
    "start_date = start_date_.strftime('%Y-%m-%d') #'%d-%m-%Y'\n",
    "end_date = end_date_.strftime('%Y-%m-%d')\n",
    "\n",
    "periodo = end_date_ - start_date_\n",
    "\n",
    "# Periodo anteior para gráficos com comparações\n",
    "start_date_b4 = start_date_ - pd.DateOffset(days = periodo.days)\n",
    "\n",
    "end_date_b4 = end_date_ - pd.DateOffset(days = periodo.days)"
   ]
  },
  {
   "cell_type": "code",
   "execution_count": 3,
   "metadata": {},
   "outputs": [],
   "source": [
    "import csv\n",
    "\n",
    "def encontrar_frase_em_csv_meta(nome_arquivo, frase_procurada):\n",
    "    try:\n",
    "        with open(nome_arquivo, 'r', newline='', encoding='utf-16') as arquivo_csv:\n",
    "            leitor_csv = csv.reader(arquivo_csv)\n",
    "            \n",
    "            for numero_linha, linha in enumerate(leitor_csv, start=1):\n",
    "                if frase_procurada in linha:\n",
    "                    return numero_linha\n",
    "\n",
    "        # Se a frase não for encontrada em nenhuma linha\n",
    "        return -1\n",
    "\n",
    "    except FileNotFoundError:\n",
    "        print(f'O arquivo {nome_arquivo} não foi encontrado.')\n",
    "        return -1"
   ]
  },
  {
   "cell_type": "code",
   "execution_count": 7,
   "metadata": {},
   "outputs": [],
   "source": [
    "\n",
    "\n",
    "dados_FB_alcance = pd.read_csv('tabelas/meta/AlcanceFB.csv',encoding='utf-16')\n",
    "\n"
   ]
  },
  {
   "cell_type": "code",
   "execution_count": 8,
   "metadata": {},
   "outputs": [
    {
     "data": {
      "text/html": [
       "<div>\n",
       "<style scoped>\n",
       "    .dataframe tbody tr th:only-of-type {\n",
       "        vertical-align: middle;\n",
       "    }\n",
       "\n",
       "    .dataframe tbody tr th {\n",
       "        vertical-align: top;\n",
       "    }\n",
       "\n",
       "    .dataframe thead th {\n",
       "        text-align: right;\n",
       "    }\n",
       "</style>\n",
       "<table border=\"1\" class=\"dataframe\">\n",
       "  <thead>\n",
       "    <tr style=\"text-align: right;\">\n",
       "      <th></th>\n",
       "      <th>Data</th>\n",
       "      <th>Primary</th>\n",
       "    </tr>\n",
       "  </thead>\n",
       "  <tbody>\n",
       "    <tr>\n",
       "      <th>0</th>\n",
       "      <td>2022-01-01T00:00:00</td>\n",
       "      <td>0</td>\n",
       "    </tr>\n",
       "    <tr>\n",
       "      <th>1</th>\n",
       "      <td>2022-01-02T00:00:00</td>\n",
       "      <td>0</td>\n",
       "    </tr>\n",
       "    <tr>\n",
       "      <th>2</th>\n",
       "      <td>2022-01-03T00:00:00</td>\n",
       "      <td>0</td>\n",
       "    </tr>\n",
       "    <tr>\n",
       "      <th>3</th>\n",
       "      <td>2022-01-04T00:00:00</td>\n",
       "      <td>0</td>\n",
       "    </tr>\n",
       "    <tr>\n",
       "      <th>4</th>\n",
       "      <td>2022-01-05T00:00:00</td>\n",
       "      <td>0</td>\n",
       "    </tr>\n",
       "    <tr>\n",
       "      <th>...</th>\n",
       "      <td>...</td>\n",
       "      <td>...</td>\n",
       "    </tr>\n",
       "    <tr>\n",
       "      <th>881</th>\n",
       "      <td>2024-05-31T00:00:00</td>\n",
       "      <td>26636</td>\n",
       "    </tr>\n",
       "    <tr>\n",
       "      <th>882</th>\n",
       "      <td>2024-06-01T00:00:00</td>\n",
       "      <td>31803</td>\n",
       "    </tr>\n",
       "    <tr>\n",
       "      <th>883</th>\n",
       "      <td>2024-06-02T00:00:00</td>\n",
       "      <td>31852</td>\n",
       "    </tr>\n",
       "    <tr>\n",
       "      <th>884</th>\n",
       "      <td>2024-06-03T00:00:00</td>\n",
       "      <td>35402</td>\n",
       "    </tr>\n",
       "    <tr>\n",
       "      <th>885</th>\n",
       "      <td>2024-06-04T00:00:00</td>\n",
       "      <td>31827</td>\n",
       "    </tr>\n",
       "  </tbody>\n",
       "</table>\n",
       "<p>886 rows × 2 columns</p>\n",
       "</div>"
      ],
      "text/plain": [
       "                    Data  Primary\n",
       "0    2022-01-01T00:00:00        0\n",
       "1    2022-01-02T00:00:00        0\n",
       "2    2022-01-03T00:00:00        0\n",
       "3    2022-01-04T00:00:00        0\n",
       "4    2022-01-05T00:00:00        0\n",
       "..                   ...      ...\n",
       "881  2024-05-31T00:00:00    26636\n",
       "882  2024-06-01T00:00:00    31803\n",
       "883  2024-06-02T00:00:00    31852\n",
       "884  2024-06-03T00:00:00    35402\n",
       "885  2024-06-04T00:00:00    31827\n",
       "\n",
       "[886 rows x 2 columns]"
      ]
     },
     "execution_count": 8,
     "metadata": {},
     "output_type": "execute_result"
    }
   ],
   "source": [
    "dados_FB_alcance"
   ]
  },
  {
   "cell_type": "code",
   "execution_count": 9,
   "metadata": {},
   "outputs": [],
   "source": [
    "# Função para tentar múltiplos formatos\n",
    "def try_parsing_date(text):\n",
    "    for fmt in (\"%Y-%m-%dT%H:%M:%S.%fZ\", \"%Y-%m-%d %H:%M:%S\"):\n",
    "        try:\n",
    "            return pd.to_datetime(text, format=fmt)\n",
    "        except ValueError:\n",
    "            continue\n",
    "    return pd.NaT"
   ]
  },
  {
   "cell_type": "code",
   "execution_count": 10,
   "metadata": {},
   "outputs": [
    {
     "data": {
      "text/html": [
       "<div>\n",
       "<style scoped>\n",
       "    .dataframe tbody tr th:only-of-type {\n",
       "        vertical-align: middle;\n",
       "    }\n",
       "\n",
       "    .dataframe tbody tr th {\n",
       "        vertical-align: top;\n",
       "    }\n",
       "\n",
       "    .dataframe thead th {\n",
       "        text-align: right;\n",
       "    }\n",
       "</style>\n",
       "<table border=\"1\" class=\"dataframe\">\n",
       "  <thead>\n",
       "    <tr style=\"text-align: right;\">\n",
       "      <th></th>\n",
       "      <th>Data</th>\n",
       "      <th>Primary</th>\n",
       "    </tr>\n",
       "  </thead>\n",
       "  <tbody>\n",
       "    <tr>\n",
       "      <th>0</th>\n",
       "      <td>2022-01-01T00:00:00</td>\n",
       "      <td>0</td>\n",
       "    </tr>\n",
       "    <tr>\n",
       "      <th>1</th>\n",
       "      <td>2022-01-02T00:00:00</td>\n",
       "      <td>0</td>\n",
       "    </tr>\n",
       "    <tr>\n",
       "      <th>2</th>\n",
       "      <td>2022-01-03T00:00:00</td>\n",
       "      <td>0</td>\n",
       "    </tr>\n",
       "    <tr>\n",
       "      <th>3</th>\n",
       "      <td>2022-01-04T00:00:00</td>\n",
       "      <td>0</td>\n",
       "    </tr>\n",
       "    <tr>\n",
       "      <th>4</th>\n",
       "      <td>2022-01-05T00:00:00</td>\n",
       "      <td>0</td>\n",
       "    </tr>\n",
       "    <tr>\n",
       "      <th>...</th>\n",
       "      <td>...</td>\n",
       "      <td>...</td>\n",
       "    </tr>\n",
       "    <tr>\n",
       "      <th>881</th>\n",
       "      <td>2024-05-31T00:00:00</td>\n",
       "      <td>26636</td>\n",
       "    </tr>\n",
       "    <tr>\n",
       "      <th>882</th>\n",
       "      <td>2024-06-01T00:00:00</td>\n",
       "      <td>31803</td>\n",
       "    </tr>\n",
       "    <tr>\n",
       "      <th>883</th>\n",
       "      <td>2024-06-02T00:00:00</td>\n",
       "      <td>31852</td>\n",
       "    </tr>\n",
       "    <tr>\n",
       "      <th>884</th>\n",
       "      <td>2024-06-03T00:00:00</td>\n",
       "      <td>35402</td>\n",
       "    </tr>\n",
       "    <tr>\n",
       "      <th>885</th>\n",
       "      <td>2024-06-04T00:00:00</td>\n",
       "      <td>31827</td>\n",
       "    </tr>\n",
       "  </tbody>\n",
       "</table>\n",
       "<p>886 rows × 2 columns</p>\n",
       "</div>"
      ],
      "text/plain": [
       "                    Data  Primary\n",
       "0    2022-01-01T00:00:00        0\n",
       "1    2022-01-02T00:00:00        0\n",
       "2    2022-01-03T00:00:00        0\n",
       "3    2022-01-04T00:00:00        0\n",
       "4    2022-01-05T00:00:00        0\n",
       "..                   ...      ...\n",
       "881  2024-05-31T00:00:00    26636\n",
       "882  2024-06-01T00:00:00    31803\n",
       "883  2024-06-02T00:00:00    31852\n",
       "884  2024-06-03T00:00:00    35402\n",
       "885  2024-06-04T00:00:00    31827\n",
       "\n",
       "[886 rows x 2 columns]"
      ]
     },
     "execution_count": 10,
     "metadata": {},
     "output_type": "execute_result"
    }
   ],
   "source": [
    "dados_FB_alcance"
   ]
  },
  {
   "cell_type": "code",
   "execution_count": 29,
   "metadata": {},
   "outputs": [
    {
     "data": {
      "text/plain": [
       "Timestamp('2024-06-04 00:00:00')"
      ]
     },
     "execution_count": 29,
     "metadata": {},
     "output_type": "execute_result"
    }
   ],
   "source": [
    "pd.to_datetime(dados_FB_alcance['Data'].max())"
   ]
  },
  {
   "cell_type": "code",
   "execution_count": 28,
   "metadata": {},
   "outputs": [
    {
     "data": {
      "text/plain": [
       "Timestamp('2023-10-16 00:00:00')"
      ]
     },
     "execution_count": 28,
     "metadata": {},
     "output_type": "execute_result"
    }
   ],
   "source": [
    "data_maxima = pd.to_datetime('2023-10-16')\n",
    "\n",
    "data_maxima"
   ]
  },
  {
   "cell_type": "code",
   "execution_count": 11,
   "metadata": {},
   "outputs": [],
   "source": [
    "# dados_FB_alcance['Data'] = dados_FB_alcance['Data'].apply(try_parsing_date)\n",
    "# dados_FB_alcance = dados_FB_alcance.dropna(subset=['Data'])"
   ]
  },
  {
   "cell_type": "code",
   "execution_count": 12,
   "metadata": {},
   "outputs": [
    {
     "data": {
      "text/html": [
       "<div>\n",
       "<style scoped>\n",
       "    .dataframe tbody tr th:only-of-type {\n",
       "        vertical-align: middle;\n",
       "    }\n",
       "\n",
       "    .dataframe tbody tr th {\n",
       "        vertical-align: top;\n",
       "    }\n",
       "\n",
       "    .dataframe thead th {\n",
       "        text-align: right;\n",
       "    }\n",
       "</style>\n",
       "<table border=\"1\" class=\"dataframe\">\n",
       "  <thead>\n",
       "    <tr style=\"text-align: right;\">\n",
       "      <th></th>\n",
       "      <th>Data</th>\n",
       "      <th>Primary</th>\n",
       "    </tr>\n",
       "  </thead>\n",
       "  <tbody>\n",
       "    <tr>\n",
       "      <th>0</th>\n",
       "      <td>2022-01-01T00:00:00</td>\n",
       "      <td>0</td>\n",
       "    </tr>\n",
       "    <tr>\n",
       "      <th>1</th>\n",
       "      <td>2022-01-02T00:00:00</td>\n",
       "      <td>0</td>\n",
       "    </tr>\n",
       "    <tr>\n",
       "      <th>2</th>\n",
       "      <td>2022-01-03T00:00:00</td>\n",
       "      <td>0</td>\n",
       "    </tr>\n",
       "    <tr>\n",
       "      <th>3</th>\n",
       "      <td>2022-01-04T00:00:00</td>\n",
       "      <td>0</td>\n",
       "    </tr>\n",
       "    <tr>\n",
       "      <th>4</th>\n",
       "      <td>2022-01-05T00:00:00</td>\n",
       "      <td>0</td>\n",
       "    </tr>\n",
       "    <tr>\n",
       "      <th>...</th>\n",
       "      <td>...</td>\n",
       "      <td>...</td>\n",
       "    </tr>\n",
       "    <tr>\n",
       "      <th>881</th>\n",
       "      <td>2024-05-31T00:00:00</td>\n",
       "      <td>26636</td>\n",
       "    </tr>\n",
       "    <tr>\n",
       "      <th>882</th>\n",
       "      <td>2024-06-01T00:00:00</td>\n",
       "      <td>31803</td>\n",
       "    </tr>\n",
       "    <tr>\n",
       "      <th>883</th>\n",
       "      <td>2024-06-02T00:00:00</td>\n",
       "      <td>31852</td>\n",
       "    </tr>\n",
       "    <tr>\n",
       "      <th>884</th>\n",
       "      <td>2024-06-03T00:00:00</td>\n",
       "      <td>35402</td>\n",
       "    </tr>\n",
       "    <tr>\n",
       "      <th>885</th>\n",
       "      <td>2024-06-04T00:00:00</td>\n",
       "      <td>31827</td>\n",
       "    </tr>\n",
       "  </tbody>\n",
       "</table>\n",
       "<p>886 rows × 2 columns</p>\n",
       "</div>"
      ],
      "text/plain": [
       "                    Data  Primary\n",
       "0    2022-01-01T00:00:00        0\n",
       "1    2022-01-02T00:00:00        0\n",
       "2    2022-01-03T00:00:00        0\n",
       "3    2022-01-04T00:00:00        0\n",
       "4    2022-01-05T00:00:00        0\n",
       "..                   ...      ...\n",
       "881  2024-05-31T00:00:00    26636\n",
       "882  2024-06-01T00:00:00    31803\n",
       "883  2024-06-02T00:00:00    31852\n",
       "884  2024-06-03T00:00:00    35402\n",
       "885  2024-06-04T00:00:00    31827\n",
       "\n",
       "[886 rows x 2 columns]"
      ]
     },
     "execution_count": 12,
     "metadata": {},
     "output_type": "execute_result"
    }
   ],
   "source": [
    "dados_FB_alcance"
   ]
  },
  {
   "cell_type": "code",
   "execution_count": 13,
   "metadata": {},
   "outputs": [],
   "source": [
    "# Recebendo dados de 01/01/2022 até o momento\n",
    "# alcance FB: 28/05/2022\n",
    "# alcance IG: 28/05/2022\n",
    "# visitas FB: 28/05/2022\n",
    "# visitas IG: 28/05/2022\n",
    "# seguidores FB: 01/01/2022\n",
    "# seguidores IG: 31/08/2023\n",
    "def filtrosDatasFACEBOOK(dados_FB_alcance, start_date, end_date, start_date_b4, end_date_b4):\n",
    "    dados_FB_alcance_FILTRADAS = dados_FB_alcance.copy()\n",
    "    \n",
    "    dados_FB_alcance_FILTRADAS = dados_FB_alcance_FILTRADAS.loc[(dados_FB_alcance_FILTRADAS['Data']>start_date) & (dados_FB_alcance_FILTRADAS['Data']<end_date)]\n",
    "    \n",
    "    dados_FB_alcance_ANTERIOR = dados_FB_alcance.copy()\n",
    "    \n",
    "    dados_FB_alcance_ANTERIOR = dados_FB_alcance_ANTERIOR.loc[(dados_FB_alcance_ANTERIOR['Data']>start_date_b4.strftime('%Y-%m-%d')) & (dados_FB_alcance_ANTERIOR['Data']<end_date_b4.strftime('%Y-%m-%d'))]\n",
    "    \n",
    "    return dados_FB_alcance_ANTERIOR,dados_FB_alcance_FILTRADAS"
   ]
  },
  {
   "cell_type": "code",
   "execution_count": 15,
   "metadata": {},
   "outputs": [
    {
     "data": {
      "application/vnd.plotly.v1+json": {
       "config": {
        "plotlyServerURL": "https://plot.ly"
       },
       "data": [
        {
         "hovertemplate": "<br>Data Original: %{text}<br>Valor: %{y}",
         "line": {
          "color": "#2f55a4"
         },
         "mode": "lines+markers",
         "name": "Selecionado: 2024-05-01 a 2024-05-23",
         "text": [
          "2024-05-01",
          "2024-05-02",
          "2024-05-03",
          "2024-05-04",
          "2024-05-05",
          "2024-05-06",
          "2024-05-07",
          "2024-05-08",
          "2024-05-09",
          "2024-05-10",
          "2024-05-11",
          "2024-05-12",
          "2024-05-13",
          "2024-05-14",
          "2024-05-15",
          "2024-05-16",
          "2024-05-17",
          "2024-05-18",
          "2024-05-19",
          "2024-05-20",
          "2024-05-21",
          "2024-05-22"
         ],
         "type": "scatter",
         "x": [
          1,
          2,
          3,
          4,
          5,
          6,
          7,
          8,
          9,
          10,
          11,
          12,
          13,
          14,
          15,
          16,
          17,
          18,
          19,
          20,
          21,
          22
         ],
         "y": [
          30606,
          30977,
          21766,
          24471,
          26430,
          32012,
          36243,
          23486,
          21119,
          33916,
          35509,
          31375,
          30060,
          39257,
          43749,
          38547,
          28302,
          26093,
          32643,
          37050,
          27741,
          25398
         ]
        },
        {
         "hovertemplate": "<br>Data Original: %{text}<br>Valor: %{y}",
         "line": {
          "color": "#6184D1"
         },
         "mode": "lines+markers",
         "name": "Anterior: 09-04-2024 a 01-05-2024",
         "text": [
          "09-04-2024",
          "10-04-2024",
          "11-04-2024",
          "12-04-2024",
          "13-04-2024",
          "14-04-2024",
          "15-04-2024",
          "16-04-2024",
          "17-04-2024",
          "18-04-2024",
          "19-04-2024",
          "20-04-2024",
          "21-04-2024",
          "22-04-2024",
          "23-04-2024",
          "24-04-2024",
          "25-04-2024",
          "26-04-2024",
          "27-04-2024",
          "28-04-2024",
          "29-04-2024",
          "30-04-2024"
         ],
         "type": "scatter",
         "x": [
          1,
          2,
          3,
          4,
          5,
          6,
          7,
          8,
          9,
          10,
          11,
          12,
          13,
          14,
          15,
          16,
          17,
          18,
          19,
          20,
          21,
          22
         ],
         "y": [
          28951,
          35686,
          35143,
          28602,
          24179,
          17973,
          21182,
          20330,
          19161,
          20436,
          18592,
          19269,
          17504,
          20250,
          19381,
          33202,
          36577,
          50223,
          53119,
          48319,
          50185,
          32443
         ]
        }
       ],
       "layout": {
        "hovermode": "x unified",
        "template": {
         "data": {
          "candlestick": [
           {
            "decreasing": {
             "line": {
              "color": "#000033"
             }
            },
            "increasing": {
             "line": {
              "color": "#000032"
             }
            },
            "type": "candlestick"
           }
          ],
          "contour": [
           {
            "colorscale": [
             [
              0,
              "#000011"
             ],
             [
              0.1111111111111111,
              "#000012"
             ],
             [
              0.2222222222222222,
              "#000013"
             ],
             [
              0.3333333333333333,
              "#000014"
             ],
             [
              0.4444444444444444,
              "#000015"
             ],
             [
              0.5555555555555556,
              "#000016"
             ],
             [
              0.6666666666666666,
              "#000017"
             ],
             [
              0.7777777777777778,
              "#000018"
             ],
             [
              0.8888888888888888,
              "#000019"
             ],
             [
              1,
              "#000020"
             ]
            ],
            "type": "contour"
           }
          ],
          "contourcarpet": [
           {
            "colorscale": [
             [
              0,
              "#000011"
             ],
             [
              0.1111111111111111,
              "#000012"
             ],
             [
              0.2222222222222222,
              "#000013"
             ],
             [
              0.3333333333333333,
              "#000014"
             ],
             [
              0.4444444444444444,
              "#000015"
             ],
             [
              0.5555555555555556,
              "#000016"
             ],
             [
              0.6666666666666666,
              "#000017"
             ],
             [
              0.7777777777777778,
              "#000018"
             ],
             [
              0.8888888888888888,
              "#000019"
             ],
             [
              1,
              "#000020"
             ]
            ],
            "type": "contourcarpet"
           }
          ],
          "heatmap": [
           {
            "colorscale": [
             [
              0,
              "#000011"
             ],
             [
              0.1111111111111111,
              "#000012"
             ],
             [
              0.2222222222222222,
              "#000013"
             ],
             [
              0.3333333333333333,
              "#000014"
             ],
             [
              0.4444444444444444,
              "#000015"
             ],
             [
              0.5555555555555556,
              "#000016"
             ],
             [
              0.6666666666666666,
              "#000017"
             ],
             [
              0.7777777777777778,
              "#000018"
             ],
             [
              0.8888888888888888,
              "#000019"
             ],
             [
              1,
              "#000020"
             ]
            ],
            "type": "heatmap"
           }
          ],
          "histogram2d": [
           {
            "colorscale": [
             [
              0,
              "#000011"
             ],
             [
              0.1111111111111111,
              "#000012"
             ],
             [
              0.2222222222222222,
              "#000013"
             ],
             [
              0.3333333333333333,
              "#000014"
             ],
             [
              0.4444444444444444,
              "#000015"
             ],
             [
              0.5555555555555556,
              "#000016"
             ],
             [
              0.6666666666666666,
              "#000017"
             ],
             [
              0.7777777777777778,
              "#000018"
             ],
             [
              0.8888888888888888,
              "#000019"
             ],
             [
              1,
              "#000020"
             ]
            ],
            "type": "histogram2d"
           }
          ],
          "icicle": [
           {
            "textfont": {
             "color": "white"
            },
            "type": "icicle"
           }
          ],
          "sankey": [
           {
            "textfont": {
             "color": "#000036"
            },
            "type": "sankey"
           }
          ],
          "scatter": [
           {
            "marker": {
             "line": {
              "width": 0
             }
            },
            "type": "scatter"
           }
          ],
          "table": [
           {
            "cells": {
             "fill": {
              "color": "#000038"
             },
             "font": {
              "color": "#000037"
             },
             "line": {
              "color": "#000039"
             }
            },
            "header": {
             "fill": {
              "color": "#000040"
             },
             "font": {
              "color": "#000036"
             },
             "line": {
              "color": "#000039"
             }
            },
            "type": "table"
           }
          ],
          "waterfall": [
           {
            "connector": {
             "line": {
              "color": "#000036",
              "width": 2
             }
            },
            "decreasing": {
             "marker": {
              "color": "#000033"
             }
            },
            "increasing": {
             "marker": {
              "color": "#000032"
             }
            },
            "totals": {
             "marker": {
              "color": "#000034"
             }
            },
            "type": "waterfall"
           }
          ]
         },
         "layout": {
          "coloraxis": {
           "colorscale": [
            [
             0,
             "#000011"
            ],
            [
             0.1111111111111111,
             "#000012"
            ],
            [
             0.2222222222222222,
             "#000013"
            ],
            [
             0.3333333333333333,
             "#000014"
            ],
            [
             0.4444444444444444,
             "#000015"
            ],
            [
             0.5555555555555556,
             "#000016"
            ],
            [
             0.6666666666666666,
             "#000017"
            ],
            [
             0.7777777777777778,
             "#000018"
            ],
            [
             0.8888888888888888,
             "#000019"
            ],
            [
             1,
             "#000020"
            ]
           ]
          },
          "colorscale": {
           "diverging": [
            [
             0,
             "#000021"
            ],
            [
             0.1,
             "#000022"
            ],
            [
             0.2,
             "#000023"
            ],
            [
             0.3,
             "#000024"
            ],
            [
             0.4,
             "#000025"
            ],
            [
             0.5,
             "#000026"
            ],
            [
             0.6,
             "#000027"
            ],
            [
             0.7,
             "#000028"
            ],
            [
             0.8,
             "#000029"
            ],
            [
             0.9,
             "#000030"
            ],
            [
             1,
             "#000031"
            ]
           ],
           "sequential": [
            [
             0,
             "#000011"
            ],
            [
             0.1111111111111111,
             "#000012"
            ],
            [
             0.2222222222222222,
             "#000013"
            ],
            [
             0.3333333333333333,
             "#000014"
            ],
            [
             0.4444444444444444,
             "#000015"
            ],
            [
             0.5555555555555556,
             "#000016"
            ],
            [
             0.6666666666666666,
             "#000017"
            ],
            [
             0.7777777777777778,
             "#000018"
            ],
            [
             0.8888888888888888,
             "#000019"
            ],
            [
             1,
             "#000020"
            ]
           ],
           "sequentialminus": [
            [
             0,
             "#000011"
            ],
            [
             0.1111111111111111,
             "#000012"
            ],
            [
             0.2222222222222222,
             "#000013"
            ],
            [
             0.3333333333333333,
             "#000014"
            ],
            [
             0.4444444444444444,
             "#000015"
            ],
            [
             0.5555555555555556,
             "#000016"
            ],
            [
             0.6666666666666666,
             "#000017"
            ],
            [
             0.7777777777777778,
             "#000018"
            ],
            [
             0.8888888888888888,
             "#000019"
            ],
            [
             1,
             "#000020"
            ]
           ]
          },
          "colorway": [
           "#000001",
           "#000002",
           "#000003",
           "#000004",
           "#000005",
           "#000006",
           "#000007",
           "#000008",
           "#000009",
           "#000010"
          ]
         }
        },
        "title": {
         "text": "Alcance do FB - Comparação de Períodos"
        },
        "xaxis": {
         "dtick": 1,
         "title": {
          "text": "Dias"
         }
        },
        "yaxis": {
         "tickformat": ".",
         "title": {
          "text": "Alcance"
         }
        }
       }
      }
     },
     "metadata": {},
     "output_type": "display_data"
    }
   ],
   "source": [
    "import pandas as pd\n",
    "import plotly.graph_objects as go\n",
    "dados_FB_alcance_ANTERIOR,dados_FB_alcance_FILTRADAS = filtrosDatasFACEBOOK(dados_FB_alcance, start_date, end_date, start_date_b4, end_date_b4)\n",
    "\n",
    "# Supor que 'Data' é a coluna de datas e que estas estão no tipo datetime\n",
    "dados_FB_alcance_FILTRADAS['Data'] = pd.to_datetime(dados_FB_alcance_FILTRADAS['Data'])\n",
    "dados_FB_alcance_ANTERIOR['Data'] = pd.to_datetime(dados_FB_alcance_ANTERIOR['Data'])\n",
    "\n",
    "# Manter as datas originais\n",
    "dados_FB_alcance_FILTRADAS['Data_Original'] = dados_FB_alcance_FILTRADAS['Data']\n",
    "dados_FB_alcance_ANTERIOR['Data_Original'] = dados_FB_alcance_ANTERIOR['Data']\n",
    "\n",
    "# Calcular a diferença de dias entre o início dos dois períodos\n",
    "delta = dados_FB_alcance_FILTRADAS['Data'].min() - dados_FB_alcance_ANTERIOR['Data'].min()\n",
    "\n",
    "# Ajustar as datas do período anterior para sobrepor ao período atual\n",
    "dados_FB_alcance_ANTERIOR['Data'] = dados_FB_alcance_ANTERIOR['Data'] + delta\n",
    "\n",
    "# Criar a coluna de sequência de números\n",
    "dados_FB_alcance_FILTRADAS['Dia'] = range(1, len(dados_FB_alcance_FILTRADAS) + 1)\n",
    "dados_FB_alcance_ANTERIOR['Dia'] = range(1, len(dados_FB_alcance_ANTERIOR) + 1)\n",
    "\n",
    "# Cria a figura\n",
    "fig = go.Figure()\n",
    "# start_date, end_date, start_date_b4.strftime('%Y-%m-%d'), end_date_b4.strftime('%Y-%m-%d'))\n",
    "dt_inicial = start_date\n",
    "# Adiciona a linha do período atual\n",
    "fig.add_trace(go.Scatter(\n",
    "    x=dados_FB_alcance_FILTRADAS['Dia'],\n",
    "    y=dados_FB_alcance_FILTRADAS['Primary'],\n",
    "    mode='lines+markers',\n",
    "    name=f'Selecionado: {start_date} a {end_date}',\n",
    "    text=dados_FB_alcance_FILTRADAS['Data_Original'].dt.strftime('%Y-%m-%d'),\n",
    "    hovertemplate='<br>Data Original: %{text}<br>Valor: %{y}',\n",
    "    line=dict(color='#2f55a4')\n",
    "))\n",
    "\n",
    "# Adiciona a linha do período anterior\n",
    "fig.add_trace(go.Scatter(\n",
    "    x=dados_FB_alcance_ANTERIOR['Dia'],\n",
    "    y=dados_FB_alcance_ANTERIOR['Primary'],\n",
    "    mode='lines+markers',\n",
    "    name=f'Anterior: {start_date_b4.strftime('%d-%m-%Y')} a {end_date_b4.strftime('%d-%m-%Y')}',\n",
    "    text=dados_FB_alcance_ANTERIOR['Data_Original'].dt.strftime('%d-%m-%Y'),\n",
    "    hovertemplate='<br>Data Original: %{text}<br>Valor: %{y}',\n",
    "    line=dict(color='#6184D1')\n",
    "))\n",
    "\n",
    "# Configura o layout\n",
    "fig.update_layout(\n",
    "    title='Alcance do FB - Comparação de Períodos',\n",
    "    xaxis_title='Dias',\n",
    "    yaxis_title='Alcance',\n",
    "    hovermode='x unified',\n",
    "    yaxis=dict(tickformat='.'),\n",
    "    xaxis=dict(dtick=1)\n",
    ")\n",
    "\n",
    "# Mostra a figura\n",
    "fig.show()\n"
   ]
  },
  {
   "cell_type": "code",
   "execution_count": 32,
   "metadata": {},
   "outputs": [
    {
     "data": {
      "text/plain": [
       "Timestamp('2024-06-05 21:24:19.309000')"
      ]
     },
     "execution_count": 32,
     "metadata": {},
     "output_type": "execute_result"
    }
   ],
   "source": [
    "from graficos.Tribuna_do_Norte import tnImpresso\n",
    "\n",
    "pd.to_datetime(tnImpresso.df_noticias_impresso['data'].max())"
   ]
  }
 ],
 "metadata": {
  "kernelspec": {
   "display_name": "Python 3",
   "language": "python",
   "name": "python3"
  },
  "language_info": {
   "codemirror_mode": {
    "name": "ipython",
    "version": 3
   },
   "file_extension": ".py",
   "mimetype": "text/x-python",
   "name": "python",
   "nbconvert_exporter": "python",
   "pygments_lexer": "ipython3",
   "version": "3.12.0"
  }
 },
 "nbformat": 4,
 "nbformat_minor": 2
}
